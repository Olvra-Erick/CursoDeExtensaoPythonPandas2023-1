{
  "nbformat": 4,
  "nbformat_minor": 0,
  "metadata": {
    "colab": {
      "provenance": [],
      "authorship_tag": "ABX9TyPKChUveul/V8EOAOOjP55N",
      "include_colab_link": true
    },
    "kernelspec": {
      "name": "python3",
      "display_name": "Python 3"
    },
    "language_info": {
      "name": "python"
    }
  },
  "cells": [
    {
      "cell_type": "markdown",
      "metadata": {
        "id": "view-in-github",
        "colab_type": "text"
      },
      "source": [
        "<a href=\"https://colab.research.google.com/github/Olvra-Erick/CursoDeExtensaoPythonPandas2023-1/blob/main/Primeiro_Exemplo_em_Pandas.ipynb\" target=\"_parent\"><img src=\"https://colab.research.google.com/assets/colab-badge.svg\" alt=\"Open In Colab\"/></a>"
      ]
    },
    {
      "cell_type": "markdown",
      "source": [
        "**Primeiro exemplo de manipulação de dados usando Python Pandas**\n",
        "Autor: Erick Oliveira\n",
        "Data: 6 de Fevereiro de 2023"
      ],
      "metadata": {
        "id": "I245jpOoEk2f"
      }
    },
    {
      "cell_type": "code",
      "source": [
        "# Importando biblioteca pandas no Python\n",
        "import pandas as pd\n",
        "\n",
        "combustiveis_df = pd.read_csv(\"\")"
      ],
      "metadata": {
        "id": "M-btGa9qDNTe"
      },
      "execution_count": null,
      "outputs": []
    }
  ]
}